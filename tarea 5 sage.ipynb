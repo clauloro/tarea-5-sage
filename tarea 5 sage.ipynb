{
 "cells": [
  {
   "cell_type": "code",
   "execution_count": 1,
   "id": "273b65b3",
   "metadata": {},
   "outputs": [
    {
     "data": {
      "text/plain": [
       "1/5"
      ]
     },
     "execution_count": 1,
     "metadata": {},
     "output_type": "execute_result"
    }
   ],
   "source": [
    "f(n)=(n^(3)+2*(n)-1)/(5*n^(3)+n^(2)-(2*n)+1)\n",
    "limit(f(n),n=oo)"
   ]
  },
  {
   "cell_type": "code",
   "execution_count": 2,
   "id": "d18c61ee",
   "metadata": {},
   "outputs": [
    {
     "data": {
      "text/plain": [
       "-5/2"
      ]
     },
     "execution_count": 2,
     "metadata": {},
     "output_type": "execute_result"
    }
   ],
   "source": [
    "f(n)=sqrt(n^2-n)-sqrt(n^2+4*n)\n",
    "limit(f(n),n=oo)\n"
   ]
  },
  {
   "cell_type": "code",
   "execution_count": 3,
   "id": "c7a9bef7",
   "metadata": {},
   "outputs": [
    {
     "data": {
      "text/plain": [
       "0"
      ]
     },
     "execution_count": 3,
     "metadata": {},
     "output_type": "execute_result"
    }
   ],
   "source": [
    "f(n)=log(1+n+sqrt(n))-log(n)\n",
    "limit(f(n),n=oo)"
   ]
  },
  {
   "cell_type": "code",
   "execution_count": 4,
   "id": "150b5886",
   "metadata": {},
   "outputs": [
    {
     "data": {
      "text/plain": [
       "n |--> 0"
      ]
     },
     "execution_count": 4,
     "metadata": {},
     "output_type": "execute_result"
    }
   ],
   "source": [
    "f(n)=n^3\n",
    "sum(f(n) for n in range(1,10000))\n",
    "limit(f/n^4,n=oo)"
   ]
  },
  {
   "cell_type": "code",
   "execution_count": 5,
   "id": "4d112a41",
   "metadata": {},
   "outputs": [
    {
     "data": {
      "text/plain": [
       "e^(-3)"
      ]
     },
     "execution_count": 5,
     "metadata": {},
     "output_type": "execute_result"
    }
   ],
   "source": [
    "f(n)=((n^3-2*n)/(n^3+3*n^2-2*n-1))\n",
    "limit(f(n)^n,n=oo)"
   ]
  },
  {
   "cell_type": "code",
   "execution_count": 6,
   "id": "8607ed22",
   "metadata": {},
   "outputs": [
    {
     "data": {
      "text/plain": [
       "5/4"
      ]
     },
     "execution_count": 6,
     "metadata": {},
     "output_type": "execute_result"
    }
   ],
   "source": [
    "\n",
    "x, y = var('x, y')\n",
    "y = (x+2)/((x**3)-x)\n",
    "sum (y, x, 2, oo)\n"
   ]
  },
  {
   "cell_type": "code",
   "execution_count": 7,
   "id": "9f65e2de",
   "metadata": {},
   "outputs": [
    {
     "ename": "NameError",
     "evalue": "name 'm' is not defined",
     "output_type": "error",
     "traceback": [
      "\u001b[0;31m---------------------------------------------------------------------------\u001b[0m",
      "\u001b[0;31mNameError\u001b[0m                                 Traceback (most recent call last)",
      "Input \u001b[0;32mIn [7]\u001b[0m, in \u001b[0;36m<cell line: 1>\u001b[0;34m()\u001b[0m\n\u001b[0;32m----> 1\u001b[0m n\u001b[38;5;241m=\u001b[39m(Integer(\u001b[38;5;241m1\u001b[39m)\u001b[38;5;241m/\u001b[39m(\u001b[43mm\u001b[49m\u001b[38;5;241m*\u001b[39m\u001b[38;5;241m*\u001b[39mInteger(\u001b[38;5;241m3\u001b[39m)\u001b[38;5;241m-\u001b[39mm))\n\u001b[1;32m      2\u001b[0m \u001b[38;5;28msum\u001b[39m(n,m,Integer(\u001b[38;5;241m2\u001b[39m),oo)\n",
      "\u001b[0;31mNameError\u001b[0m: name 'm' is not defined"
     ]
    }
   ],
   "source": [
    "n=(1/(m^3-m))\n",
    "sum(n,m,2,oo)"
   ]
  },
  {
   "cell_type": "code",
   "execution_count": 8,
   "id": "ed87d0a3",
   "metadata": {},
   "outputs": [
    {
     "data": {
      "text/plain": [
       "(-1)^n*sum(x^n, x, 0, +Infinity)"
      ]
     },
     "execution_count": 8,
     "metadata": {},
     "output_type": "execute_result"
    }
   ],
   "source": [
    "s=(((-1)^n)*x^n)\n",
    "sum(s,x,0,oo)"
   ]
  },
  {
   "cell_type": "code",
   "execution_count": 9,
   "id": "70d5163d",
   "metadata": {},
   "outputs": [
    {
     "data": {
      "text/plain": [
       "4*(-1)^n*n*sum(x^(2*n), x, 0, +Infinity)"
      ]
     },
     "execution_count": 9,
     "metadata": {},
     "output_type": "execute_result"
    }
   ],
   "source": [
    "s=((-1)^n*4*n*(x)^(2*n))\n",
    "sum(s,x,0,oo)\n"
   ]
  },
  {
   "cell_type": "code",
   "execution_count": 16,
   "id": "2f147028",
   "metadata": {},
   "outputs": [
    {
     "data": {
      "text/plain": [
       "93958705499/11156683466653165551101*(x - 10)^10 - 8825080100/110462212541120451001*(x - 10)^9 + 817256401/1093685272684360901*(x - 10)^8 - 74455920/10828567056280801*(x - 10)^7 + 6652099/107213535210701*(x - 10)^6 - 580060/1061520150601*(x - 10)^5 + 49001/10510100501*(x - 10)^4 - 3960/104060401*(x - 10)^3 + 299/1030301*(x - 10)^2 - 20/10201*x + 301/10201"
      ]
     },
     "execution_count": 16,
     "metadata": {},
     "output_type": "execute_result"
    }
   ],
   "source": [
    "taylor((1/(1+x^2)),x,10)"
   ]
  },
  {
   "cell_type": "code",
   "execution_count": 12,
   "id": "7056018e",
   "metadata": {},
   "outputs": [
    {
     "data": {
      "text/plain": [
       "1/40320*x^9 - 1/720*x^7 + 1/24*x^5 - 1/2*x^3 + x"
      ]
     },
     "execution_count": 12,
     "metadata": {},
     "output_type": "execute_result"
    }
   ],
   "source": [
    "taylor(x*cos(x),x,0,10)"
   ]
  },
  {
   "cell_type": "code",
   "execution_count": null,
   "id": "fab7893d",
   "metadata": {},
   "outputs": [],
   "source": []
  }
 ],
 "metadata": {
  "kernelspec": {
   "display_name": "SageMath 9.7",
   "language": "sage",
   "name": "sagemath-9.7"
  },
  "language_info": {
   "codemirror_mode": {
    "name": "ipython",
    "version": 3
   },
   "file_extension": ".py",
   "mimetype": "text/x-python",
   "name": "python",
   "nbconvert_exporter": "python",
   "pygments_lexer": "ipython3",
   "version": "3.10.5"
  }
 },
 "nbformat": 4,
 "nbformat_minor": 5
}
